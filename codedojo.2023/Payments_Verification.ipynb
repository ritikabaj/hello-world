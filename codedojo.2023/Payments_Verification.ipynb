{
 "cells": [
  {
   "cell_type": "code",
   "execution_count": null,
   "id": "87957c82",
   "metadata": {},
   "outputs": [],
   "source": [
    "import numpy as np\n",
    "import pandas as pd\n",
    "import matplotlib.pyplot as plt\n",
    "from sklearn.model_selection import train_test_split\n",
    "from sklearn.metrics import accuracy_score\n",
    "from sklearn.svm import SVC\n",
    "from sklearn import svm\n",
    "import os\n",
    "\n",
    "Categories = ['Real','Fake']\n",
    "flat_data = [] #input array \n",
    "target_output = [] #output array \n",
    "locationdata = '/Users/samyukthapugal/Documents/MLimages' #path to datasets\n",
    "for i in Categories:\n",
    "    path = os.path.join(locationdata,i)\n",
    "    for img in os.listdir(path):\n",
    "        images = imread(os.path.join(path,img)) #img_array\n",
    "        image_resized = resize(images,(150,150,3)) #resized to a fixed size\n",
    "        flat_data.append(image_resized.flatten()) \n",
    "        target_output.append(Categories.index(i))\n",
    "        \n",
    "flat_data = np.array(flat_data) ##array with all resized pictures\n",
    "target_array = np.array(target_array) ##array with binary set\n",
    "\n",
    "X = flat_data.reshape(len(flat_data), -1) #input data\n",
    "\n",
    "np.unique(target_array) \n",
    "X.shape\n",
    "from sklearn.linear_model import LogisticRegression\n",
    "from sklearn.svm import SVC\n",
    "\n",
    "#split the model\n",
    "xtrain, xtest, ytrain, ytest = train_test_split(X, target_array, random_state=10,\n",
    "                                               test_size=.20)\n",
    "\n",
    "#train the model\n",
    "svm_classifier = svm.SVC(C=1)\n",
    "svm_classifier.fit(xtrain,ytrain)\n",
    "\n",
    "# Perform prediction with the model\n",
    "y_pred = svm_classifier.predict(xtest)\n",
    "print(y_pred)\n",
    "\n",
    "# Evaluate the accuracy of the model\n",
    "accuracy = print(\"Accuracy:\")\n",
    "print(accuracy_score(ytest, y_pred))"
   ]
  },
  {
   "cell_type": "code",
   "execution_count": null,
   "id": "bcfc3ee6",
   "metadata": {},
   "outputs": [],
   "source": [
    "#reading the submitted screenshot from the customer\n",
    "image ='/Users/samyukthapugal/Documents/MLimages' #just an example\n",
    "\n",
    "#processing if image is real\n",
    "y_pred = svm_classifier.predict(image)\n",
    "\n",
    "#print output\n",
    "if y_pred == 1:\n",
    "    print(\"Payment is real\")\n",
    "else:\n",
    "    print(\"Payment is fake\")"
   ]
  }
 ],
 "metadata": {
  "kernelspec": {
   "display_name": "Python 3 (ipykernel)",
   "language": "python",
   "name": "python3"
  },
  "language_info": {
   "codemirror_mode": {
    "name": "ipython",
    "version": 3
   },
   "file_extension": ".py",
   "mimetype": "text/x-python",
   "name": "python",
   "nbconvert_exporter": "python",
   "pygments_lexer": "ipython3",
   "version": "3.9.12"
  }
 },
 "nbformat": 4,
 "nbformat_minor": 5
}
